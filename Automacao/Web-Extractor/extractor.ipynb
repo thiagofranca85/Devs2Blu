{
 "cells": [
  {
   "cell_type": "code",
   "execution_count": 1,
   "id": "ccbdac94",
   "metadata": {},
   "outputs": [],
   "source": [
    "import pandas as pd\n",
    "import requests\n",
    "from bs4 import BeautifulSoup"
   ]
  },
  {
   "cell_type": "code",
   "execution_count": 2,
   "id": "78fb3f55",
   "metadata": {},
   "outputs": [],
   "source": [
    "url = 'https://makelymodaintima.meucatalogodigital.com/'"
   ]
  },
  {
   "cell_type": "code",
   "execution_count": 3,
   "id": "56eeba4f",
   "metadata": {},
   "outputs": [],
   "source": [
    "headers = {'User-Agent': 'Mozilla/5.0 (Windows NT 6.1) AppleWebKit/537.36 (KHTML, like Gecko) Chrome/41.0.2228.0 Safari/537.3'}\n",
    "\n",
    "cookies = {\n",
    "    'Teste': 'lalala'\n",
    "}\n",
    "\n",
    "page = requests.get(url = url, headers = headers, cookies=cookies)"
   ]
  },
  {
   "cell_type": "code",
   "execution_count": null,
   "id": "0ee5512b",
   "metadata": {},
   "outputs": [],
   "source": [
    "page.content"
   ]
  },
  {
   "cell_type": "code",
   "execution_count": 5,
   "id": "167f1b4e",
   "metadata": {
    "scrolled": true
   },
   "outputs": [],
   "source": [
    "soup = BeautifulSoup(page.content, 'html.parser')"
   ]
  },
  {
   "cell_type": "code",
   "execution_count": 9,
   "id": "4f3548d9",
   "metadata": {
    "scrolled": true
   },
   "outputs": [],
   "source": [
    "itemsLoja = soup.findAll(attrs = {'class': 'box-produto'})"
   ]
  },
  {
   "cell_type": "raw",
   "id": "42b20db4",
   "metadata": {},
   "source": []
  },
  {
   "cell_type": "code",
   "execution_count": 20,
   "id": "2b0134d4",
   "metadata": {},
   "outputs": [],
   "source": [
    "itemsLoja[0].value"
   ]
  },
  {
   "cell_type": "code",
   "execution_count": null,
   "id": "f0c3a24a",
   "metadata": {},
   "outputs": [],
   "source": []
  }
 ],
 "metadata": {
  "kernelspec": {
   "display_name": ".venv",
   "language": "python",
   "name": "python3"
  },
  "language_info": {
   "codemirror_mode": {
    "name": "ipython",
    "version": 3
   },
   "file_extension": ".py",
   "mimetype": "text/x-python",
   "name": "python",
   "nbconvert_exporter": "python",
   "pygments_lexer": "ipython3",
   "version": "3.11.2"
  },
  "vscode": {
   "interpreter": {
    "hash": "a7ee2af99fa5d4d1173408953f0d7d6a802406d1066ed9b6278a510ee7bc8a9c"
   }
  }
 },
 "nbformat": 4,
 "nbformat_minor": 5
}
